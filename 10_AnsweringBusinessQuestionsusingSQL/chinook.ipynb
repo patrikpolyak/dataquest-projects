{
 "cells": [
  {
   "cell_type": "code",
   "execution_count": 1,
   "metadata": {
    "collapsed": false
   },
   "outputs": [
    {
     "name": "stdout",
     "output_type": "stream",
     "text": [
      "Basics.ipynb  chinook.db  chinook.db.bak  chinook-unmodified.db\r\n"
     ]
    }
   ],
   "source": [
    "!ls"
   ]
  },
  {
   "cell_type": "code",
   "execution_count": 2,
   "metadata": {
    "collapsed": false
   },
   "outputs": [
    {
     "name": "stdout",
     "output_type": "stream",
     "text": [
      "Basics.ipynb  chinook.db  chinook.db.bak  chinook-unmodified.db\r\n"
     ]
    }
   ],
   "source": [
    "!cp chinook.db chinook.db.bak\n",
    "!ls"
   ]
  },
  {
   "cell_type": "code",
   "execution_count": 3,
   "metadata": {
    "collapsed": true
   },
   "outputs": [],
   "source": [
    "%matplotlib inline\n",
    "import pandas as pd\n",
    "import matplotlib.pyplot as plt\n",
    "import sqlite3\n",
    "import numpy as np"
   ]
  },
  {
   "cell_type": "code",
   "execution_count": 4,
   "metadata": {
    "collapsed": true
   },
   "outputs": [],
   "source": [
    "db = 'chinook.db'\n",
    "\n",
    "def run_query(q):\n",
    "    with sqlite3.connect(db) as conn:\n",
    "        return pd.read_sql(q, conn)\n",
    "    \n",
    "def run_command(q):\n",
    "    with sqlite3.connect(db) as conn:\n",
    "        conn.isolation_level = None\n",
    "        conn.execute(q)\n",
    "        \n",
    "def show_tables():\n",
    "    query = '''\n",
    "    SELECT name, type FROM sqlite_master WHERE type IN (\"table\", \"view\");\n",
    "    '''\n",
    "    return run_query(query)"
   ]
  },
  {
   "cell_type": "code",
   "execution_count": 5,
   "metadata": {
    "collapsed": false
   },
   "outputs": [
    {
     "data": {
      "text/html": [
       "<div>\n",
       "<style scoped>\n",
       "    .dataframe tbody tr th:only-of-type {\n",
       "        vertical-align: middle;\n",
       "    }\n",
       "\n",
       "    .dataframe tbody tr th {\n",
       "        vertical-align: top;\n",
       "    }\n",
       "\n",
       "    .dataframe thead th {\n",
       "        text-align: right;\n",
       "    }\n",
       "</style>\n",
       "<table border=\"1\" class=\"dataframe\">\n",
       "  <thead>\n",
       "    <tr style=\"text-align: right;\">\n",
       "      <th></th>\n",
       "      <th>name</th>\n",
       "      <th>type</th>\n",
       "    </tr>\n",
       "  </thead>\n",
       "  <tbody>\n",
       "    <tr>\n",
       "      <th>0</th>\n",
       "      <td>album</td>\n",
       "      <td>table</td>\n",
       "    </tr>\n",
       "    <tr>\n",
       "      <th>1</th>\n",
       "      <td>artist</td>\n",
       "      <td>table</td>\n",
       "    </tr>\n",
       "    <tr>\n",
       "      <th>2</th>\n",
       "      <td>customer</td>\n",
       "      <td>table</td>\n",
       "    </tr>\n",
       "    <tr>\n",
       "      <th>3</th>\n",
       "      <td>employee</td>\n",
       "      <td>table</td>\n",
       "    </tr>\n",
       "    <tr>\n",
       "      <th>4</th>\n",
       "      <td>genre</td>\n",
       "      <td>table</td>\n",
       "    </tr>\n",
       "    <tr>\n",
       "      <th>5</th>\n",
       "      <td>invoice</td>\n",
       "      <td>table</td>\n",
       "    </tr>\n",
       "    <tr>\n",
       "      <th>6</th>\n",
       "      <td>invoice_line</td>\n",
       "      <td>table</td>\n",
       "    </tr>\n",
       "    <tr>\n",
       "      <th>7</th>\n",
       "      <td>media_type</td>\n",
       "      <td>table</td>\n",
       "    </tr>\n",
       "    <tr>\n",
       "      <th>8</th>\n",
       "      <td>playlist</td>\n",
       "      <td>table</td>\n",
       "    </tr>\n",
       "    <tr>\n",
       "      <th>9</th>\n",
       "      <td>playlist_track</td>\n",
       "      <td>table</td>\n",
       "    </tr>\n",
       "    <tr>\n",
       "      <th>10</th>\n",
       "      <td>track</td>\n",
       "      <td>table</td>\n",
       "    </tr>\n",
       "  </tbody>\n",
       "</table>\n",
       "</div>"
      ],
      "text/plain": [
       "              name   type\n",
       "0            album  table\n",
       "1           artist  table\n",
       "2         customer  table\n",
       "3         employee  table\n",
       "4            genre  table\n",
       "5          invoice  table\n",
       "6     invoice_line  table\n",
       "7       media_type  table\n",
       "8         playlist  table\n",
       "9   playlist_track  table\n",
       "10           track  table"
      ]
     },
     "execution_count": 5,
     "metadata": {},
     "output_type": "execute_result"
    }
   ],
   "source": [
    "show_tables()"
   ]
  },
  {
   "cell_type": "code",
   "execution_count": 6,
   "metadata": {
    "collapsed": false
   },
   "outputs": [
    {
     "data": {
      "text/html": [
       "<div>\n",
       "<style scoped>\n",
       "    .dataframe tbody tr th:only-of-type {\n",
       "        vertical-align: middle;\n",
       "    }\n",
       "\n",
       "    .dataframe tbody tr th {\n",
       "        vertical-align: top;\n",
       "    }\n",
       "\n",
       "    .dataframe thead th {\n",
       "        text-align: right;\n",
       "    }\n",
       "</style>\n",
       "<table border=\"1\" class=\"dataframe\">\n",
       "  <thead>\n",
       "    <tr style=\"text-align: right;\">\n",
       "      <th></th>\n",
       "      <th>tracks_sold</th>\n",
       "      <th>tracks_sold_pct</th>\n",
       "    </tr>\n",
       "    <tr>\n",
       "      <th>name</th>\n",
       "      <th></th>\n",
       "      <th></th>\n",
       "    </tr>\n",
       "  </thead>\n",
       "  <tbody>\n",
       "    <tr>\n",
       "      <th>Alternative</th>\n",
       "      <td>35</td>\n",
       "      <td>3.33</td>\n",
       "    </tr>\n",
       "    <tr>\n",
       "      <th>Alternative &amp; Punk</th>\n",
       "      <td>130</td>\n",
       "      <td>12.37</td>\n",
       "    </tr>\n",
       "    <tr>\n",
       "      <th>Blues</th>\n",
       "      <td>36</td>\n",
       "      <td>3.43</td>\n",
       "    </tr>\n",
       "    <tr>\n",
       "      <th>Classical</th>\n",
       "      <td>4</td>\n",
       "      <td>0.38</td>\n",
       "    </tr>\n",
       "    <tr>\n",
       "      <th>Easy Listening</th>\n",
       "      <td>13</td>\n",
       "      <td>1.24</td>\n",
       "    </tr>\n",
       "    <tr>\n",
       "      <th>Electronica/Dance</th>\n",
       "      <td>5</td>\n",
       "      <td>0.48</td>\n",
       "    </tr>\n",
       "    <tr>\n",
       "      <th>Heavy Metal</th>\n",
       "      <td>3</td>\n",
       "      <td>0.29</td>\n",
       "    </tr>\n",
       "    <tr>\n",
       "      <th>Hip Hop/Rap</th>\n",
       "      <td>20</td>\n",
       "      <td>1.90</td>\n",
       "    </tr>\n",
       "    <tr>\n",
       "      <th>Jazz</th>\n",
       "      <td>14</td>\n",
       "      <td>1.33</td>\n",
       "    </tr>\n",
       "    <tr>\n",
       "      <th>Latin</th>\n",
       "      <td>22</td>\n",
       "      <td>2.09</td>\n",
       "    </tr>\n",
       "    <tr>\n",
       "      <th>Metal</th>\n",
       "      <td>124</td>\n",
       "      <td>11.80</td>\n",
       "    </tr>\n",
       "    <tr>\n",
       "      <th>Pop</th>\n",
       "      <td>22</td>\n",
       "      <td>2.09</td>\n",
       "    </tr>\n",
       "    <tr>\n",
       "      <th>R&amp;B/Soul</th>\n",
       "      <td>53</td>\n",
       "      <td>5.04</td>\n",
       "    </tr>\n",
       "    <tr>\n",
       "      <th>Reggae</th>\n",
       "      <td>6</td>\n",
       "      <td>0.57</td>\n",
       "    </tr>\n",
       "    <tr>\n",
       "      <th>Rock</th>\n",
       "      <td>561</td>\n",
       "      <td>53.38</td>\n",
       "    </tr>\n",
       "    <tr>\n",
       "      <th>Soundtrack</th>\n",
       "      <td>2</td>\n",
       "      <td>0.19</td>\n",
       "    </tr>\n",
       "    <tr>\n",
       "      <th>TV Shows</th>\n",
       "      <td>1</td>\n",
       "      <td>0.10</td>\n",
       "    </tr>\n",
       "  </tbody>\n",
       "</table>\n",
       "</div>"
      ],
      "text/plain": [
       "                    tracks_sold  tracks_sold_pct\n",
       "name                                            \n",
       "Alternative                  35             3.33\n",
       "Alternative & Punk          130            12.37\n",
       "Blues                        36             3.43\n",
       "Classical                     4             0.38\n",
       "Easy Listening               13             1.24\n",
       "Electronica/Dance             5             0.48\n",
       "Heavy Metal                   3             0.29\n",
       "Hip Hop/Rap                  20             1.90\n",
       "Jazz                         14             1.33\n",
       "Latin                        22             2.09\n",
       "Metal                       124            11.80\n",
       "Pop                          22             2.09\n",
       "R&B/Soul                     53             5.04\n",
       "Reggae                        6             0.57\n",
       "Rock                        561            53.38\n",
       "Soundtrack                    2             0.19\n",
       "TV Shows                      1             0.10"
      ]
     },
     "execution_count": 6,
     "metadata": {},
     "output_type": "execute_result"
    }
   ],
   "source": [
    "query = '''\n",
    "WITH total_sold_usa AS\n",
    "(SELECT SUM(quantity) FROM invoice_line il\n",
    "JOIN invoice i ON i.invoice_id = il.invoice_id\n",
    "JOIN customer c ON c.customer_id = i.customer_id\n",
    "WHERE c.country = \"USA\")\n",
    "\n",
    "SELECT g.name, SUM(quantity) tracks_sold,\n",
    "ROUND(CAST(SUM(quantity) as float) / (SELECT * FROM total_sold_usa) * 100, 2) tracks_sold_pct\n",
    "FROM genre g\n",
    "JOIN track t ON g.genre_id = t.genre_id\n",
    "JOIN invoice_line il ON il.track_id = t.track_id\n",
    "JOIN invoice i ON i.invoice_id = il.invoice_id\n",
    "JOIN customer c ON c.customer_id = i.customer_id\n",
    "WHERE c.country = \"USA\"\n",
    "GROUP BY 1;\n",
    "'''\n",
    "sold_by_genre = run_query(query)\n",
    "sold_by_genre.set_index(\"name\", drop=True, inplace=True)\n",
    "sold_by_genre"
   ]
  },
  {
   "cell_type": "code",
   "execution_count": 14,
   "metadata": {
    "collapsed": false,
    "scrolled": false
   },
   "outputs": [
    {
     "data": {
      "text/plain": [
       "<matplotlib.axes._subplots.AxesSubplot at 0x7f7a08515278>"
      ]
     },
     "execution_count": 14,
     "metadata": {},
     "output_type": "execute_result"
    },
    {
     "data": {
      "image/png": "[encoded data removed]",
      "text/plain": [
       "<matplotlib.figure.Figure at 0x7f7a084ab080>"
      ]
     },
     "metadata": {},
     "output_type": "display_data"
    }
   ],
   "source": [
    "sold_by_genre[\"tracks_sold\"].sort_values().plot.barh()"
   ]
  },
  {
   "cell_type": "code",
   "execution_count": 8,
   "metadata": {
    "collapsed": false
   },
   "outputs": [
    {
     "data": {
      "text/html": [
       "<div>\n",
       "<style scoped>\n",
       "    .dataframe tbody tr th:only-of-type {\n",
       "        vertical-align: middle;\n",
       "    }\n",
       "\n",
       "    .dataframe tbody tr th {\n",
       "        vertical-align: top;\n",
       "    }\n",
       "\n",
       "    .dataframe thead th {\n",
       "        text-align: right;\n",
       "    }\n",
       "</style>\n",
       "<table border=\"1\" class=\"dataframe\">\n",
       "  <thead>\n",
       "    <tr style=\"text-align: right;\">\n",
       "      <th></th>\n",
       "      <th>tracks_sold</th>\n",
       "      <th>tracks_sold_pct</th>\n",
       "    </tr>\n",
       "    <tr>\n",
       "      <th>name</th>\n",
       "      <th></th>\n",
       "      <th></th>\n",
       "    </tr>\n",
       "  </thead>\n",
       "  <tbody>\n",
       "    <tr>\n",
       "      <th>Rock</th>\n",
       "      <td>561</td>\n",
       "      <td>53.38</td>\n",
       "    </tr>\n",
       "    <tr>\n",
       "      <th>Alternative &amp; Punk</th>\n",
       "      <td>130</td>\n",
       "      <td>12.37</td>\n",
       "    </tr>\n",
       "    <tr>\n",
       "      <th>Metal</th>\n",
       "      <td>124</td>\n",
       "      <td>11.80</td>\n",
       "    </tr>\n",
       "    <tr>\n",
       "      <th>R&amp;B/Soul</th>\n",
       "      <td>53</td>\n",
       "      <td>5.04</td>\n",
       "    </tr>\n",
       "    <tr>\n",
       "      <th>Blues</th>\n",
       "      <td>36</td>\n",
       "      <td>3.43</td>\n",
       "    </tr>\n",
       "    <tr>\n",
       "      <th>Alternative</th>\n",
       "      <td>35</td>\n",
       "      <td>3.33</td>\n",
       "    </tr>\n",
       "    <tr>\n",
       "      <th>Latin</th>\n",
       "      <td>22</td>\n",
       "      <td>2.09</td>\n",
       "    </tr>\n",
       "    <tr>\n",
       "      <th>Pop</th>\n",
       "      <td>22</td>\n",
       "      <td>2.09</td>\n",
       "    </tr>\n",
       "    <tr>\n",
       "      <th>Hip Hop/Rap</th>\n",
       "      <td>20</td>\n",
       "      <td>1.90</td>\n",
       "    </tr>\n",
       "    <tr>\n",
       "      <th>Jazz</th>\n",
       "      <td>14</td>\n",
       "      <td>1.33</td>\n",
       "    </tr>\n",
       "    <tr>\n",
       "      <th>Easy Listening</th>\n",
       "      <td>13</td>\n",
       "      <td>1.24</td>\n",
       "    </tr>\n",
       "    <tr>\n",
       "      <th>Reggae</th>\n",
       "      <td>6</td>\n",
       "      <td>0.57</td>\n",
       "    </tr>\n",
       "    <tr>\n",
       "      <th>Electronica/Dance</th>\n",
       "      <td>5</td>\n",
       "      <td>0.48</td>\n",
       "    </tr>\n",
       "    <tr>\n",
       "      <th>Classical</th>\n",
       "      <td>4</td>\n",
       "      <td>0.38</td>\n",
       "    </tr>\n",
       "    <tr>\n",
       "      <th>Heavy Metal</th>\n",
       "      <td>3</td>\n",
       "      <td>0.29</td>\n",
       "    </tr>\n",
       "    <tr>\n",
       "      <th>Soundtrack</th>\n",
       "      <td>2</td>\n",
       "      <td>0.19</td>\n",
       "    </tr>\n",
       "    <tr>\n",
       "      <th>TV Shows</th>\n",
       "      <td>1</td>\n",
       "      <td>0.10</td>\n",
       "    </tr>\n",
       "  </tbody>\n",
       "</table>\n",
       "</div>"
      ],
      "text/plain": [
       "                    tracks_sold  tracks_sold_pct\n",
       "name                                            \n",
       "Rock                        561            53.38\n",
       "Alternative & Punk          130            12.37\n",
       "Metal                       124            11.80\n",
       "R&B/Soul                     53             5.04\n",
       "Blues                        36             3.43\n",
       "Alternative                  35             3.33\n",
       "Latin                        22             2.09\n",
       "Pop                          22             2.09\n",
       "Hip Hop/Rap                  20             1.90\n",
       "Jazz                         14             1.33\n",
       "Easy Listening               13             1.24\n",
       "Reggae                        6             0.57\n",
       "Electronica/Dance             5             0.48\n",
       "Classical                     4             0.38\n",
       "Heavy Metal                   3             0.29\n",
       "Soundtrack                    2             0.19\n",
       "TV Shows                      1             0.10"
      ]
     },
     "execution_count": 8,
     "metadata": {},
     "output_type": "execute_result"
    }
   ],
   "source": [
    "sold_by_genre.sort_values(by=[\"tracks_sold\"], ascending=False)"
   ]
  },
  {
   "cell_type": "markdown",
   "metadata": {},
   "source": [
    "Adding the album of the **Punk band (Red Tone)** is heavily recommended as that addresses over 12% of the sales in the US.\n",
    "\n",
    "The next recommendation would be the **Blues band (Slim Jim Bites)** as it is covered by almost 3.5% of the US sales.\n",
    "\n",
    "Finally, the **Hip-Hop band (Regal)** should be also added to the collection. While Hip-Hop albums are only sold 1.9% of the time, but it is fairly close to the R&B/Soul (5% of sales) which heavily outweighs the slight advantage of the Pop genre (2.1% of sales)."
   ]
  },
  {
   "cell_type": "code",
   "execution_count": 9,
   "metadata": {
    "collapsed": false
   },
   "outputs": [],
   "source": [
    "query = '''\n",
    "SELECT (e.first_name || \" \" || e.last_name) employee_name,\n",
    "e.birthdate, e.hire_date, -- dates\n",
    "e.city, e.state, e.country, -- location\n",
    "e.reports_to, -- hierarchy\n",
    "SUM(i.total) total_sales\n",
    "FROM employee e\n",
    "JOIN customer c ON e.employee_id = c.support_rep_id\n",
    "JOIN invoice i ON c.customer_id = i.customer_id\n",
    "WHERE e.title = \"Sales Support Agent\"\n",
    "GROUP BY 1\n",
    "'''\n",
    "\n",
    "sales_by_employee = run_query(query)\n",
    "sales_by_employee.set_index(\"employee_name\", drop=True, inplace=True)"
   ]
  },
  {
   "cell_type": "code",
   "execution_count": 10,
   "metadata": {
    "collapsed": false
   },
   "outputs": [
    {
     "data": {
      "text/plain": [
       "<matplotlib.axes._subplots.AxesSubplot at 0x7f7a08546550>"
      ]
     },
     "execution_count": 10,
     "metadata": {},
     "output_type": "execute_result"
    },
    {
     "data": {
      "image/png": "[encoded data removed]",
      "text/plain": [
       "<matplotlib.figure.Figure at 0x7f7a7c165160>"
      ]
     },
     "metadata": {},
     "output_type": "display_data"
    }
   ],
   "source": [
    "sales_by_employee[\"total_sales\"].plot.barh()"
   ]
  },
  {
   "cell_type": "code",
   "execution_count": 11,
   "metadata": {
    "collapsed": false
   },
   "outputs": [
    {
     "data": {
      "text/html": [
       "<div>\n",
       "<style scoped>\n",
       "    .dataframe tbody tr th:only-of-type {\n",
       "        vertical-align: middle;\n",
       "    }\n",
       "\n",
       "    .dataframe tbody tr th {\n",
       "        vertical-align: top;\n",
       "    }\n",
       "\n",
       "    .dataframe thead th {\n",
       "        text-align: right;\n",
       "    }\n",
       "</style>\n",
       "<table border=\"1\" class=\"dataframe\">\n",
       "  <thead>\n",
       "    <tr style=\"text-align: right;\">\n",
       "      <th></th>\n",
       "      <th>birthdate</th>\n",
       "      <th>hire_date</th>\n",
       "      <th>city</th>\n",
       "      <th>state</th>\n",
       "      <th>country</th>\n",
       "      <th>reports_to</th>\n",
       "      <th>total_sales</th>\n",
       "    </tr>\n",
       "    <tr>\n",
       "      <th>employee_name</th>\n",
       "      <th></th>\n",
       "      <th></th>\n",
       "      <th></th>\n",
       "      <th></th>\n",
       "      <th></th>\n",
       "      <th></th>\n",
       "      <th></th>\n",
       "    </tr>\n",
       "  </thead>\n",
       "  <tbody>\n",
       "    <tr>\n",
       "      <th>Jane Peacock</th>\n",
       "      <td>1973-08-29 00:00:00</td>\n",
       "      <td>2017-04-01 00:00:00</td>\n",
       "      <td>Calgary</td>\n",
       "      <td>AB</td>\n",
       "      <td>Canada</td>\n",
       "      <td>2</td>\n",
       "      <td>1731.51</td>\n",
       "    </tr>\n",
       "    <tr>\n",
       "      <th>Margaret Park</th>\n",
       "      <td>1947-09-19 00:00:00</td>\n",
       "      <td>2017-05-03 00:00:00</td>\n",
       "      <td>Calgary</td>\n",
       "      <td>AB</td>\n",
       "      <td>Canada</td>\n",
       "      <td>2</td>\n",
       "      <td>1584.00</td>\n",
       "    </tr>\n",
       "    <tr>\n",
       "      <th>Steve Johnson</th>\n",
       "      <td>1965-03-03 00:00:00</td>\n",
       "      <td>2017-10-17 00:00:00</td>\n",
       "      <td>Calgary</td>\n",
       "      <td>AB</td>\n",
       "      <td>Canada</td>\n",
       "      <td>2</td>\n",
       "      <td>1393.92</td>\n",
       "    </tr>\n",
       "  </tbody>\n",
       "</table>\n",
       "</div>"
      ],
      "text/plain": [
       "                         birthdate            hire_date     city state  \\\n",
       "employee_name                                                            \n",
       "Jane Peacock   1973-08-29 00:00:00  2017-04-01 00:00:00  Calgary    AB   \n",
       "Margaret Park  1947-09-19 00:00:00  2017-05-03 00:00:00  Calgary    AB   \n",
       "Steve Johnson  1965-03-03 00:00:00  2017-10-17 00:00:00  Calgary    AB   \n",
       "\n",
       "              country  reports_to  total_sales  \n",
       "employee_name                                   \n",
       "Jane Peacock   Canada           2      1731.51  \n",
       "Margaret Park  Canada           2      1584.00  \n",
       "Steve Johnson  Canada           2      1393.92  "
      ]
     },
     "execution_count": 11,
     "metadata": {},
     "output_type": "execute_result"
    }
   ],
   "source": [
    "sales_by_employee"
   ]
  },
  {
   "cell_type": "markdown",
   "metadata": {},
   "source": [
    "**Jane Peacock** has the highest sales, however she has been also with the company for the longest time - since April 2017.\n",
    "**Margaret Park** has sold approximately 150 dollars less with one less month of employment.\n",
    "Finally, **Steve Johnson** is another 200 dolars short of her while being employed only since mid-October 2017.\n",
    "Overall, their numbers are quite close, with Jane having the highest average monthly sales while Steve is the second best sales employee."
   ]
  },
  {
   "cell_type": "code",
   "execution_count": 12,
   "metadata": {
    "collapsed": false
   },
   "outputs": [
    {
     "data": {
      "text/html": [
       "<div>\n",
       "<style scoped>\n",
       "    .dataframe tbody tr th:only-of-type {\n",
       "        vertical-align: middle;\n",
       "    }\n",
       "\n",
       "    .dataframe tbody tr th {\n",
       "        vertical-align: top;\n",
       "    }\n",
       "\n",
       "    .dataframe thead th {\n",
       "        text-align: right;\n",
       "    }\n",
       "</style>\n",
       "<table border=\"1\" class=\"dataframe\">\n",
       "  <thead>\n",
       "    <tr style=\"text-align: right;\">\n",
       "      <th></th>\n",
       "      <th>country</th>\n",
       "      <th>COUNT(country)</th>\n",
       "    </tr>\n",
       "  </thead>\n",
       "  <tbody>\n",
       "    <tr>\n",
       "      <th>0</th>\n",
       "      <td>Brazil</td>\n",
       "      <td>5</td>\n",
       "    </tr>\n",
       "    <tr>\n",
       "      <th>1</th>\n",
       "      <td>Canada</td>\n",
       "      <td>8</td>\n",
       "    </tr>\n",
       "    <tr>\n",
       "      <th>2</th>\n",
       "      <td>Czech Republic</td>\n",
       "      <td>2</td>\n",
       "    </tr>\n",
       "    <tr>\n",
       "      <th>3</th>\n",
       "      <td>France</td>\n",
       "      <td>5</td>\n",
       "    </tr>\n",
       "    <tr>\n",
       "      <th>4</th>\n",
       "      <td>Germany</td>\n",
       "      <td>4</td>\n",
       "    </tr>\n",
       "    <tr>\n",
       "      <th>5</th>\n",
       "      <td>India</td>\n",
       "      <td>2</td>\n",
       "    </tr>\n",
       "    <tr>\n",
       "      <th>6</th>\n",
       "      <td>Other</td>\n",
       "      <td>15</td>\n",
       "    </tr>\n",
       "    <tr>\n",
       "      <th>7</th>\n",
       "      <td>Portugal</td>\n",
       "      <td>2</td>\n",
       "    </tr>\n",
       "    <tr>\n",
       "      <th>8</th>\n",
       "      <td>USA</td>\n",
       "      <td>13</td>\n",
       "    </tr>\n",
       "    <tr>\n",
       "      <th>9</th>\n",
       "      <td>United Kingdom</td>\n",
       "      <td>3</td>\n",
       "    </tr>\n",
       "  </tbody>\n",
       "</table>\n",
       "</div>"
      ],
      "text/plain": [
       "          country  COUNT(country)\n",
       "0          Brazil               5\n",
       "1          Canada               8\n",
       "2  Czech Republic               2\n",
       "3          France               5\n",
       "4         Germany               4\n",
       "5           India               2\n",
       "6           Other              15\n",
       "7        Portugal               2\n",
       "8             USA              13\n",
       "9  United Kingdom               3"
      ]
     },
     "execution_count": 12,
     "metadata": {},
     "output_type": "execute_result"
    }
   ],
   "source": [
    "# backup\n",
    "\n",
    "query = '''\n",
    "WITH other_country_totals AS\n",
    "(SELECT c.country, i.total\n",
    "FROM customer c\n",
    "JOIN invoice i ON i.customer_id = c.customer_id\n",
    "GROUP BY 1\n",
    "HAVING COUNT(DISTINCT c.customer_id) = 1)\n",
    "\n",
    "SELECT\n",
    "    CASE\n",
    "        WHEN c.country IN (SELECT country FROM other_country_totals) THEN \"Other\"\n",
    "        ELSE c.country\n",
    "    END AS country,\n",
    "    COUNT(country)\n",
    "FROM customer c\n",
    "GROUP BY 1\n",
    "        \n",
    "'''\n",
    "\n",
    "run_query(query)"
   ]
  },
  {
   "cell_type": "code",
   "execution_count": 19,
   "metadata": {
    "collapsed": false
   },
   "outputs": [
    {
     "data": {
      "text/html": [
       "<div>\n",
       "<style scoped>\n",
       "    .dataframe tbody tr th:only-of-type {\n",
       "        vertical-align: middle;\n",
       "    }\n",
       "\n",
       "    .dataframe tbody tr th {\n",
       "        vertical-align: top;\n",
       "    }\n",
       "\n",
       "    .dataframe thead th {\n",
       "        text-align: right;\n",
       "    }\n",
       "</style>\n",
       "<table border=\"1\" class=\"dataframe\">\n",
       "  <thead>\n",
       "    <tr style=\"text-align: right;\">\n",
       "      <th></th>\n",
       "      <th>country</th>\n",
       "      <th>nr_customers</th>\n",
       "      <th>total_sales</th>\n",
       "      <th>avg_sales_per_customer</th>\n",
       "      <th>avg_sales_per_order</th>\n",
       "    </tr>\n",
       "  </thead>\n",
       "  <tbody>\n",
       "    <tr>\n",
       "      <th>0</th>\n",
       "      <td>USA</td>\n",
       "      <td>13</td>\n",
       "      <td>1040.49</td>\n",
       "      <td>80.04</td>\n",
       "      <td>7.94</td>\n",
       "    </tr>\n",
       "    <tr>\n",
       "      <th>1</th>\n",
       "      <td>Canada</td>\n",
       "      <td>8</td>\n",
       "      <td>535.59</td>\n",
       "      <td>66.95</td>\n",
       "      <td>7.05</td>\n",
       "    </tr>\n",
       "    <tr>\n",
       "      <th>2</th>\n",
       "      <td>Brazil</td>\n",
       "      <td>5</td>\n",
       "      <td>427.68</td>\n",
       "      <td>85.54</td>\n",
       "      <td>7.01</td>\n",
       "    </tr>\n",
       "    <tr>\n",
       "      <th>3</th>\n",
       "      <td>France</td>\n",
       "      <td>5</td>\n",
       "      <td>389.07</td>\n",
       "      <td>77.81</td>\n",
       "      <td>7.78</td>\n",
       "    </tr>\n",
       "    <tr>\n",
       "      <th>4</th>\n",
       "      <td>Germany</td>\n",
       "      <td>4</td>\n",
       "      <td>334.62</td>\n",
       "      <td>83.66</td>\n",
       "      <td>8.16</td>\n",
       "    </tr>\n",
       "    <tr>\n",
       "      <th>5</th>\n",
       "      <td>Czech Republic</td>\n",
       "      <td>2</td>\n",
       "      <td>273.24</td>\n",
       "      <td>136.62</td>\n",
       "      <td>9.11</td>\n",
       "    </tr>\n",
       "    <tr>\n",
       "      <th>6</th>\n",
       "      <td>United Kingdom</td>\n",
       "      <td>3</td>\n",
       "      <td>245.52</td>\n",
       "      <td>81.84</td>\n",
       "      <td>8.77</td>\n",
       "    </tr>\n",
       "    <tr>\n",
       "      <th>7</th>\n",
       "      <td>Portugal</td>\n",
       "      <td>2</td>\n",
       "      <td>185.13</td>\n",
       "      <td>92.57</td>\n",
       "      <td>6.38</td>\n",
       "    </tr>\n",
       "    <tr>\n",
       "      <th>8</th>\n",
       "      <td>India</td>\n",
       "      <td>2</td>\n",
       "      <td>183.15</td>\n",
       "      <td>91.57</td>\n",
       "      <td>8.72</td>\n",
       "    </tr>\n",
       "    <tr>\n",
       "      <th>9</th>\n",
       "      <td>Other</td>\n",
       "      <td>15</td>\n",
       "      <td>1094.94</td>\n",
       "      <td>73.00</td>\n",
       "      <td>7.45</td>\n",
       "    </tr>\n",
       "  </tbody>\n",
       "</table>\n",
       "</div>"
      ],
      "text/plain": [
       "          country  nr_customers  total_sales  avg_sales_per_customer  \\\n",
       "0             USA            13      1040.49                   80.04   \n",
       "1          Canada             8       535.59                   66.95   \n",
       "2          Brazil             5       427.68                   85.54   \n",
       "3          France             5       389.07                   77.81   \n",
       "4         Germany             4       334.62                   83.66   \n",
       "5  Czech Republic             2       273.24                  136.62   \n",
       "6  United Kingdom             3       245.52                   81.84   \n",
       "7        Portugal             2       185.13                   92.57   \n",
       "8           India             2       183.15                   91.57   \n",
       "9           Other            15      1094.94                   73.00   \n",
       "\n",
       "   avg_sales_per_order  \n",
       "0                 7.94  \n",
       "1                 7.05  \n",
       "2                 7.01  \n",
       "3                 7.78  \n",
       "4                 8.16  \n",
       "5                 9.11  \n",
       "6                 8.77  \n",
       "7                 6.38  \n",
       "8                 8.72  \n",
       "9                 7.45  "
      ]
     },
     "execution_count": 19,
     "metadata": {},
     "output_type": "execute_result"
    }
   ],
   "source": [
    "query = '''\n",
    "WITH other_countries AS\n",
    "(SELECT c.country\n",
    "FROM customer c\n",
    "JOIN invoice i ON i.customer_id = c.customer_id\n",
    "GROUP BY 1\n",
    "HAVING COUNT(DISTINCT c.customer_id) = 1),\n",
    "\n",
    "customer_country_as_other AS\n",
    "(SELECT\n",
    "    c.customer_id,\n",
    "    CASE\n",
    "        WHEN c.country IN (SELECT oc.country FROM other_countries oc) THEN \"Other\"\n",
    "        ELSE c.country\n",
    "    END AS country,\n",
    "    i.total AS sales\n",
    "FROM customer c\n",
    "JOIN invoice i ON i.customer_id = c.customer_id)\n",
    "\n",
    "SELECT country,\n",
    "COUNT(DISTINCT customer_id) AS nr_customers,\n",
    "SUM(sales) AS total_sales,\n",
    "ROUND(SUM(sales) / COUNT(DISTINCT customer_id),2) AS avg_sales_per_customer,\n",
    "ROUND(AVG(sales), 2) AS avg_sales_per_order\n",
    "FROM\n",
    "(SELECT c.*,\n",
    "CASE\n",
    "    WHEN c.country = \"Other\" THEN 1\n",
    "    ELSE 0\n",
    "END AS sort\n",
    "FROM customer_country_as_other c)\n",
    "GROUP BY country\n",
    "ORDER BY sort, 3 DESC;\n",
    "'''\n",
    "\n",
    "plot_df = run_query(query)\n",
    "plot_df"
   ]
  },
  {
   "cell_type": "code",
   "execution_count": 22,
   "metadata": {
    "collapsed": false
   },
   "outputs": [],
   "source": [
    "plot_df = plot_df.set_index(\"country\")"
   ]
  },
  {
   "cell_type": "code",
   "execution_count": 54,
   "metadata": {
    "collapsed": false
   },
   "outputs": [
    {
     "data": {
      "image/png": "[encoded data removed]",
      "text/plain": [
       "<matplotlib.figure.Figure at 0x7f7a07740f28>"
      ]
     },
     "metadata": {},
     "output_type": "display_data"
    }
   ],
   "source": [
    "colors = [plt.cm.Accent(i) for i in np.linspace(0, 1, plot_df.shape[0])]\n",
    "fig, ax1 = plt.subplots()\n",
    "plot_df[\"nr_customers\"].plot.barh(ax=ax1, color=colors)\n",
    "ax1.tick_params(top=\"off\", right=\"off\", left=\"off\", bottom=\"on\")\n",
    "ax1.set_ylabel(\"\")\n",
    "ax1.spines[\"top\"].set_visible(False)\n",
    "ax1.spines[\"right\"].set_visible(False)"
   ]
  },
  {
   "cell_type": "code",
   "execution_count": 67,
   "metadata": {
    "collapsed": false
   },
   "outputs": [
    {
     "data": {
      "image/png": "[encoded data removed]",
      "text/plain": [
       "<matplotlib.figure.Figure at 0x7f7a075a9518>"
      ]
     },
     "metadata": {},
     "output_type": "display_data"
    }
   ],
   "source": [
    "fig, ax2 = plt.subplots()\n",
    "plot_df[[\"avg_sales_per_customer\"]].plot.bar(ax=ax2, color=colors)\n",
    "ax2.tick_params(top=\"off\", right=\"off\", left=\"on\", bottom=\"off\")\n",
    "ax2.set_xlabel(\"\")\n",
    "ax2.set_ylabel(\"Average spending per customer\")\n",
    "ax2.legend().set_visible(False)"
   ]
  },
  {
   "cell_type": "code",
   "execution_count": 95,
   "metadata": {
    "collapsed": false
   },
   "outputs": [
    {
     "data": {
      "text/html": [
       "<div>\n",
       "<style scoped>\n",
       "    .dataframe tbody tr th:only-of-type {\n",
       "        vertical-align: middle;\n",
       "    }\n",
       "\n",
       "    .dataframe tbody tr th {\n",
       "        vertical-align: top;\n",
       "    }\n",
       "\n",
       "    .dataframe thead th {\n",
       "        text-align: right;\n",
       "    }\n",
       "</style>\n",
       "<table border=\"1\" class=\"dataframe\">\n",
       "  <thead>\n",
       "    <tr style=\"text-align: right;\">\n",
       "      <th></th>\n",
       "      <th>album_purchase</th>\n",
       "      <th>number_of_invoices</th>\n",
       "      <th>percentage_of_invoices</th>\n",
       "    </tr>\n",
       "  </thead>\n",
       "  <tbody>\n",
       "    <tr>\n",
       "      <th>0</th>\n",
       "      <td>no</td>\n",
       "      <td>500</td>\n",
       "      <td>0.814</td>\n",
       "    </tr>\n",
       "    <tr>\n",
       "      <th>1</th>\n",
       "      <td>yes</td>\n",
       "      <td>114</td>\n",
       "      <td>0.186</td>\n",
       "    </tr>\n",
       "  </tbody>\n",
       "</table>\n",
       "</div>"
      ],
      "text/plain": [
       "  album_purchase  number_of_invoices  percentage_of_invoices\n",
       "0             no                 500                   0.814\n",
       "1            yes                 114                   0.186"
      ]
     },
     "execution_count": 95,
     "metadata": {},
     "output_type": "execute_result"
    }
   ],
   "source": [
    "query = '''\n",
    "WITH invoice_albums AS\n",
    "(SELECT DISTINCT i.invoice_id, a.album_id FROM invoice i\n",
    "JOIN invoice_line il ON il.invoice_id = i.invoice_id\n",
    "JOIN track t ON t.track_id = il.track_id\n",
    "JOIN album a ON a.album_id = t.album_id)\n",
    "\n",
    "SELECT album_purchase,\n",
    "    COUNT(DISTINCT invoice_id) number_of_invoices,\n",
    "    ROUND(COUNT(DISTINCT invoice_id) / CAST((SELECT COUNT(DISTINCT invoice_id) FROM invoice_albums) AS float),3) percentage_of_invoices\n",
    "FROM\n",
    "    (SELECT ia.invoice_id invoice_id, ia.album_id album_id,\n",
    "        CASE WHEN\n",
    "            (SELECT track_id FROM track t\n",
    "            WHERE t.album_id = ia.album_id\n",
    "\n",
    "            EXCEPT\n",
    "\n",
    "            SELECT track_id FROM invoice_line il\n",
    "            WHERE il.invoice_id = ia.invoice_id) IS NULL\n",
    "                AND\n",
    "            (SELECT track_id FROM invoice_line il\n",
    "            WHERE il.invoice_id = ia.invoice_id\n",
    "\n",
    "            EXCEPT\n",
    "\n",
    "            SELECT track_id FROM track t\n",
    "            WHERE t.album_id = ia.album_id) IS NULL\n",
    "        THEN \"yes\"\n",
    "        ELSE \"no\"\n",
    "        END AS \"album_purchase\"\n",
    "    FROM invoice_albums ia)\n",
    "    GROUP BY album_purchase;\n",
    "'''\n",
    "\n",
    "run_query(query)"
   ]
  },
  {
   "cell_type": "code",
   "execution_count": null,
   "metadata": {
    "collapsed": true
   },
   "outputs": [],
   "source": []
  }
 ],
 "metadata": {
  "kernelspec": {
   "display_name": "Python 3",
   "language": "python",
   "name": "python3"
  },
  "language_info": {
   "codemirror_mode": {
    "name": "ipython",
    "version": 3
   },
   "file_extension": ".py",
   "mimetype": "text/x-python",
   "name": "python",
   "nbconvert_exporter": "python",
   "pygments_lexer": "ipython3",
   "version": "3.4.3"
  }
 },
 "nbformat": 4,
 "nbformat_minor": 2
}
